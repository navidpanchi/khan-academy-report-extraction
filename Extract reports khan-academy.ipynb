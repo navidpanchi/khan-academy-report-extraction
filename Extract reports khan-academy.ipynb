{
 "cells": [
  {
   "cell_type": "markdown",
   "metadata": {},
   "source": [
    "Before starting make sure you run `pip install -r requirements.txt` command to install the required dependencies"
   ]
  },
  {
   "cell_type": "code",
   "execution_count": null,
   "metadata": {},
   "outputs": [],
   "source": [
    "from bs4 import BeautifulSoup\n",
    "import pandas as pd\n",
    "import time\n",
    "import datetime\n",
    "import os\n",
    "from pathlib import Path\n",
    "from selenium.webdriver.support.ui import Select\n",
    "\n",
    "from helium import *"
   ]
  },
  {
   "cell_type": "markdown",
   "metadata": {},
   "source": [
    "Define your username and password in the cell below"
   ]
  },
  {
   "cell_type": "code",
   "execution_count": null,
   "metadata": {},
   "outputs": [],
   "source": [
    "USERNAME = 'your-email@domain.com'\n",
    "PASSWORD = 'your-password'"
   ]
  },
  {
   "cell_type": "markdown",
   "metadata": {},
   "source": [
    "Lets define required function for extraction of table, conversion of element into bueautiful soup object and extraction of tables from multiple pages."
   ]
  },
  {
   "cell_type": "code",
   "execution_count": null,
   "metadata": {
    "code_folding": []
   },
   "outputs": [],
   "source": [
    "def get_soup(elem):\n",
    "    return BeautifulSoup(elem.get_attribute('innerHTML'), 'html.parser')\n",
    "\n",
    "def get_datatable(cols, n_rows):\n",
    "    \"\"\"\n",
    "    creates pandas dataframe\n",
    "    cols:List: column names \n",
    "    n_rows:int: number of rows\n",
    "    \"\"\"\n",
    "    return pd.DataFrame(columns=cols, index=range(n_rows))\n",
    "\n",
    "def get_row(elem, tag):\n",
    "    \"\"\"\n",
    "    extracts row\n",
    "    \"\"\"\n",
    "    e = elem.find_elements_by_tag_name(tag)\n",
    "    return [get_soup(h).getText() for h in e]\n",
    "\n",
    "def get_link(row):\n",
    "    \"\"\"\n",
    "    extracts link from the row\n",
    "    \"\"\"\n",
    "    return row.find_element_by_tag_name('a').get_attribute('href')\n",
    "\n",
    "def get_table(t, link=None):\n",
    "    \"\"\"\n",
    "    extracts the table from a given page - make sure you give a single table element if there are multiple tables. \n",
    "    This will extract column names from the table head\n",
    "    t: table element\n",
    "    \"\"\"\n",
    "    \n",
    "    head = t.find_element_by_tag_name('thead')\n",
    "    body = t.find_element_by_tag_name('tbody')\n",
    "\n",
    "    columns = get_row(head, 'th')\n",
    "\n",
    "    rows = body.find_elements_by_tag_name('tr')\n",
    "    n_rows = len(rows)\n",
    "    \n",
    "    df = get_datatable(columns, n_rows)\n",
    "    \n",
    "    links = []\n",
    "    for i, r in enumerate(rows):\n",
    "        vals = get_row(r, 'td')\n",
    "        if link is not None: links.append((vals[link], get_link(r)))\n",
    "        for j, v in enumerate(vals):\n",
    "            df.iloc[i, j] = v\n",
    "            \n",
    "    return df, links\n",
    "\n",
    "        \n",
    "def create_folder(username):\n",
    "    \"\"\"\n",
    "    creates folder for saving reports \n",
    "    the structure is as follows\n",
    "    username -> date -> report\n",
    "                     -> assingment\n",
    "    username:str: the username for creating folder\n",
    "    returns:Path: Path variable for the folder\n",
    "    \"\"\"\n",
    "    root = Path(username)\n",
    "    folder = Path(f'{username}/{datetime.datetime.today().strftime(\"%Y-%m-%d\")}')\n",
    "    try:\n",
    "        os.mkdir(str(root))   \n",
    "    except:\n",
    "        print('folder present already')\n",
    "        \n",
    "    try:\n",
    "        os.mkdir(str(folder))\n",
    "        os.mkdir(str(folder/'activity_log'))\n",
    "        os.mkdir(str(folder/'assignments'))\n",
    "    except:\n",
    "        print('internal folder also present')\n",
    "    return folder\n",
    "\n",
    "\n",
    "def multi_page_table(browser, wait_element, link=None):\n",
    "    \"\"\"\n",
    "    Traverses multiple pages using next button to extract multipage reports/tables \n",
    "    browser: webdriver that is controlling the browser\n",
    "    wait_element: give some element which can determine if the table is present on the page\n",
    "    link: links to be extracted (give index of the column from which the link needs to be extracted)\n",
    "    returns: complete table\n",
    "    \"\"\"\n",
    "    wait_until(Text(wait_element).exists)\n",
    "    \n",
    "    n = Button('Next')\n",
    "    if n.exists() and n.is_enabled():\n",
    "        table_list, links_list = [], []\n",
    "        while n.is_enabled():\n",
    "            wait_until(Text(wait_element).exists)\n",
    "            table_element = browser.find_element_by_tag_name('table')\n",
    "            table, links = get_table(table_element, link=link)\n",
    "            table_list.append(table)\n",
    "            links_list.extend(links)\n",
    "            click(n)\n",
    "                \n",
    "        table = pd.concat(table_list)\n",
    "    else: \n",
    "        t = browser.find_element_by_tag_name('table')\n",
    "        table, links_list = get_table(t, link=link)\n",
    "        \n",
    "    if link is not None: return table, links_list\n",
    "    else: return table    "
   ]
  },
  {
   "cell_type": "code",
   "execution_count": null,
   "metadata": {},
   "outputs": [],
   "source": [
    "browser = start_chrome()\n",
    "browser.maximize_window() # just to make sure that the table isnt divided into two to fit into the page\\\n",
    "\n",
    "#login \n",
    "go_to(\"https://www.khanacademy.org/login\")\n",
    "write(USERNAME, into='Email or username')\n",
    "write(PASSWORD, into='Password')\n",
    "click('Log in')"
   ]
  },
  {
   "cell_type": "code",
   "execution_count": null,
   "metadata": {},
   "outputs": [],
   "source": [
    "#change with your classname \n",
    "class_name = \"Example Class\"\n",
    "wait_until(Text(class_name).exists)\n",
    "click(class_name)"
   ]
  },
  {
   "cell_type": "code",
   "execution_count": null,
   "metadata": {},
   "outputs": [],
   "source": [
    "#to handle updating of class information when new students join in\n",
    "try: click('Update')\n",
    "except: pass"
   ]
  },
  {
   "cell_type": "markdown",
   "metadata": {},
   "source": [
    "We need to extract data from activity overview and we are considering data from the today only"
   ]
  },
  {
   "cell_type": "code",
   "execution_count": null,
   "metadata": {},
   "outputs": [],
   "source": [
    "wait_until(Text('Activity overview').exists)\n",
    "click('Activity overview')\n",
    "\n",
    "wait_until(Text('Last 7 days').exists)\n",
    "click('Last 7 days')\n",
    "click('Today')"
   ]
  },
  {
   "cell_type": "markdown",
   "metadata": {},
   "source": [
    "Creating folder to save the reports"
   ]
  },
  {
   "cell_type": "code",
   "execution_count": null,
   "metadata": {
    "code_folding": []
   },
   "outputs": [],
   "source": [
    "folder = create_folder(USERNAME)"
   ]
  },
  {
   "cell_type": "markdown",
   "metadata": {},
   "source": [
    "This will collect information about all the students in your class, more of an overview"
   ]
  },
  {
   "cell_type": "code",
   "execution_count": null,
   "metadata": {},
   "outputs": [],
   "source": [
    "all_students_table, links = multi_page_table(browser, 'SKILLS LEVELED UP', link=0)\n",
    "all_students_table.to_csv(folder/'Progress Report (All Students).csv', index=None)"
   ]
  },
  {
   "cell_type": "markdown",
   "metadata": {},
   "source": [
    "This will collect information about individual student by clicking their links and collecting information about their progress and assigments"
   ]
  },
  {
   "cell_type": "code",
   "execution_count": null,
   "metadata": {},
   "outputs": [],
   "source": [
    "for name, l in links:\n",
    "    go_to(l)\n",
    "    try:  \n",
    "        if Text('No results').exists(): raise ValueError\n",
    "        st_activity = multi_page_table(browser, 'CORRECT/TOTAL PROBLEMS', None)\n",
    "        st_activity.to_csv(folder/f'activity_log/{name}.csv', index=None)\n",
    "    except: \n",
    "        print(f'{name} Has no records')\n",
    "        \n",
    "    try: \n",
    "        click('Assignments')\n",
    "        as_activity = multi_page_table(browser, 'DUE DATE & TIME', None)\n",
    "        as_activity.to_csv(folder/f'assignments/{name}_assignment.csv', index=None)\n",
    "    except:\n",
    "        print(f'{name} has no assignment record')"
   ]
  },
  {
   "cell_type": "code",
   "execution_count": null,
   "metadata": {},
   "outputs": [],
   "source": []
  }
 ],
 "metadata": {
  "kernelspec": {
   "display_name": "web_scraping",
   "language": "python",
   "name": "web_scraping"
  },
  "language_info": {
   "codemirror_mode": {
    "name": "ipython",
    "version": 3
   },
   "file_extension": ".py",
   "mimetype": "text/x-python",
   "name": "python",
   "nbconvert_exporter": "python",
   "pygments_lexer": "ipython3",
   "version": "3.6.10"
  }
 },
 "nbformat": 4,
 "nbformat_minor": 2
}
